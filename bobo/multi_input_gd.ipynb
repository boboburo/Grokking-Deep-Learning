{
 "cells": [
  {
   "cell_type": "markdown",
   "metadata": {},
   "source": [
    "# Inputs"
   ]
  },
  {
   "cell_type": "code",
   "execution_count": 8,
   "metadata": {},
   "outputs": [],
   "source": [
    "toes = [8.5, 9.5, 9.9, 9.0]\n",
    "wlrec = [0.65, 0.8, 0.8, 0.9]\n",
    "nfans = [1.2, 1.3, 0.5, 1.0]\n",
    "num_ipts = 3\n",
    "#Target\n",
    "win_lose = [1, 1, 0, 1]"
   ]
  },
  {
   "cell_type": "code",
   "execution_count": 15,
   "metadata": {},
   "outputs": [
    {
     "data": {
      "text/plain": [
       "0.6000000000000001"
      ]
     },
     "execution_count": 15,
     "metadata": {},
     "output_type": "execute_result"
    }
   ],
   "source": [
    "def neural_network(inpt, weights):\n",
    "    assert(len(inpt) == len(weights))\n",
    "    out = 0\n",
    "    for i in range(len(inpt)):\n",
    "        out += (inpt[i]*weights[i])\n",
    "    return out\n",
    "\n",
    "neural_network([1,2,3],[0.1]*3)"
   ]
  },
  {
   "cell_type": "code",
   "execution_count": 12,
   "metadata": {},
   "outputs": [
    {
     "data": {
      "text/plain": [
       "[2.3, 4.6, 6.8999999999999995]"
      ]
     },
     "execution_count": 12,
     "metadata": {},
     "output_type": "execute_result"
    }
   ],
   "source": [
    "def ele_mul(scalar, vector):\n",
    "    out = [0]*num_ipts\n",
    "    assert(len(out) == len(vector))\n",
    "    \n",
    "    for i in range(len(out)):\n",
    "        out[i] =  vector[i]*scalar\n",
    "    return out\n",
    "\n",
    "ele_mul(2.3,[1,2,3])"
   ]
  },
  {
   "cell_type": "code",
   "execution_count": 80,
   "metadata": {},
   "outputs": [],
   "source": [
    "#initial weights\n",
    "weights = [0.1, 0.2, -0.1]\n",
    "alpha = 0.3\n",
    "\n",
    "inpt_index = 0\n",
    "inpt_sel = [toes[inpt_index],wlrec[inpt_index], nfans[inpt_index]]\n",
    "target_sel = win_lose[inpt_index]"
   ]
  },
  {
   "cell_type": "code",
   "execution_count": 81,
   "metadata": {},
   "outputs": [
    {
     "name": "stdout",
     "output_type": "stream",
     "text": [
      "Pred:0.860,Error:0.019600,Delta:-0.140,w:['0.10', '0.20', '-0.10'],wd:['0.00', '-0.09', '-0.17']\n",
      "Pred:0.938,Error:0.003816,Delta:-0.062,w:['0.10', '0.23', '-0.05'],wd:['0.00', '-0.04', '-0.07']\n",
      "Pred:0.973,Error:0.000743,Delta:-0.027,w:['0.10', '0.24', '-0.03'],wd:['0.00', '-0.02', '-0.03']\n",
      "Pred:0.988,Error:0.000145,Delta:-0.012,w:['0.10', '0.24', '-0.02'],wd:['0.00', '-0.01', '-0.01']\n",
      "Pred:0.995,Error:0.000028,Delta:-0.005,w:['0.10', '0.25', '-0.01'],wd:['0.00', '-0.00', '-0.01']\n",
      "Pred:0.998,Error:0.000005,Delta:-0.002,w:['0.10', '0.25', '-0.01'],wd:['0.00', '-0.00', '-0.00']\n",
      "Pred:0.999,Error:0.000001,Delta:-0.001,w:['0.10', '0.25', '-0.01'],wd:['0.00', '-0.00', '-0.00']\n",
      "Pred:1.000,Error:0.000000,Delta:-0.000,w:['0.10', '0.25', '-0.01'],wd:['0.00', '-0.00', '-0.00']\n",
      "Pred:1.000,Error:0.000000,Delta:-0.000,w:['0.10', '0.25', '-0.01'],wd:['0.00', '-0.00', '-0.00']\n",
      "Pred:1.000,Error:0.000000,Delta:-0.000,w:['0.10', '0.25', '-0.01'],wd:['0.00', '-0.00', '-0.00']\n",
      "Pred:1.000,Error:0.000000,Delta:-0.000,w:['0.10', '0.25', '-0.01'],wd:['0.00', '-0.00', '-0.00']\n",
      "Pred:1.000,Error:0.000000,Delta:-0.000,w:['0.10', '0.25', '-0.01'],wd:['0.00', '-0.00', '-0.00']\n",
      "Pred:1.000,Error:0.000000,Delta:-0.000,w:['0.10', '0.25', '-0.01'],wd:['0.00', '-0.00', '-0.00']\n",
      "Pred:1.000,Error:0.000000,Delta:-0.000,w:['0.10', '0.25', '-0.01'],wd:['0.00', '-0.00', '-0.00']\n",
      "Pred:1.000,Error:0.000000,Delta:-0.000,w:['0.10', '0.25', '-0.01'],wd:['0.00', '-0.00', '-0.00']\n"
     ]
    }
   ],
   "source": [
    "for iter in range(15):\n",
    "    \n",
    "    pred = neural_network(inpt_sel, weights)\n",
    "    \n",
    "    error = (pred - target_sel)**2\n",
    "    delta = pred - target_sel\n",
    "    \n",
    "    weight_deltas = ele_mul(delta, inpt_sel) #remeber it is the delta with respect to the input \n",
    "    weight_deltas[0] = 0\n",
    "    \n",
    "    \n",
    "    w_print = [f\"{num:.2f}\" for num in weights]\n",
    "    wd_print = [f\"{num:.2f}\" for num in weight_deltas]\n",
    "    \n",
    "    \n",
    "    print(f\"Pred:{pred:.3f},Error:{error:.6f},Delta:{delta:.3f},w:{w_print},wd:{wd_print}\")\n",
    "    \n",
    "    for i in range(len(weights)):\n",
    "        weights[i] -= alpha*weight_deltas[i]\n",
    "\n"
   ]
  },
  {
   "cell_type": "code",
   "execution_count": 49,
   "metadata": {},
   "outputs": [
    {
     "ename": "AttributeError",
     "evalue": "'list' object has no attribute 'round'",
     "output_type": "error",
     "traceback": [
      "\u001b[0;31m---------------------------------------------------------------------------\u001b[0m",
      "\u001b[0;31mAttributeError\u001b[0m                            Traceback (most recent call last)",
      "\u001b[0;32m<ipython-input-49-30e86f28584a>\u001b[0m in \u001b[0;36m<module>\u001b[0;34m\u001b[0m\n\u001b[0;32m----> 1\u001b[0;31m \u001b[0mweight_deltas\u001b[0m\u001b[0;34m.\u001b[0m\u001b[0mround\u001b[0m\u001b[0;34m(\u001b[0m\u001b[0;36m3\u001b[0m\u001b[0;34m)\u001b[0m\u001b[0;34m\u001b[0m\u001b[0;34m\u001b[0m\u001b[0m\n\u001b[0m",
      "\u001b[0;31mAttributeError\u001b[0m: 'list' object has no attribute 'round'"
     ]
    }
   ],
   "source": [
    "weight_deltas.round(3)"
   ]
  },
  {
   "cell_type": "code",
   "execution_count": null,
   "metadata": {},
   "outputs": [],
   "source": []
  }
 ],
 "metadata": {
  "kernelspec": {
   "display_name": "Python 3",
   "language": "python",
   "name": "python3"
  },
  "language_info": {
   "codemirror_mode": {
    "name": "ipython",
    "version": 3
   },
   "file_extension": ".py",
   "mimetype": "text/x-python",
   "name": "python",
   "nbconvert_exporter": "python",
   "pygments_lexer": "ipython3",
   "version": "3.8.3"
  }
 },
 "nbformat": 4,
 "nbformat_minor": 4
}
