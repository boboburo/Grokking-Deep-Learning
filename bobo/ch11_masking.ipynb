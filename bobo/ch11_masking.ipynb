{
 "cells": [
  {
   "cell_type": "code",
   "execution_count": 258,
   "metadata": {},
   "outputs": [],
   "source": [
    "import sys, random, math\n",
    "from collections import Counter\n",
    "import numpy as np\n",
    "\n",
    "np.random.seed(1)"
   ]
  },
  {
   "cell_type": "code",
   "execution_count": 259,
   "metadata": {},
   "outputs": [
    {
     "name": "stdout",
     "output_type": "stream",
     "text": [
      "25000\n"
     ]
    }
   ],
   "source": [
    "f = open(\"../original/reviews.txt\")\n",
    "raw_reviews = f.readlines()\n",
    "f.close()\n",
    "\n",
    "print(len(raw_reviews))"
   ]
  },
  {
   "cell_type": "code",
   "execution_count": 260,
   "metadata": {},
   "outputs": [],
   "source": [
    "raw_reviews = raw_reviews[0:10000]"
   ]
  },
  {
   "cell_type": "code",
   "execution_count": 261,
   "metadata": {},
   "outputs": [
    {
     "name": "stdout",
     "output_type": "stream",
     "text": [
      "10000\n",
      "127\n"
     ]
    }
   ],
   "source": [
    "tokens = list(map(lambda x:(x.split(\" \")),raw_reviews))\n",
    "print(len(tokens))\n",
    "print(len(tokens[1]))"
   ]
  },
  {
   "cell_type": "code",
   "execution_count": 262,
   "metadata": {},
   "outputs": [
    {
     "name": "stdout",
     "output_type": "stream",
     "text": [
      "49260\n"
     ]
    },
    {
     "data": {
      "text/plain": [
       "['', 'farmhouses', 'cheever', 'fini', 'magnetism']"
      ]
     },
     "execution_count": 262,
     "metadata": {},
     "output_type": "execute_result"
    }
   ],
   "source": [
    "wrdcnt = Counter()\n",
    "for review in tokens:\n",
    "    for word in review:\n",
    "        wrdcnt[word] -=1\n",
    "vocab = list(set(map(lambda x:x[0], wrdcnt.most_common() ))) #another way of getting getting the vocab, is set required ? \n",
    "print(len(vocab))\n",
    "vocab[0:5]"
   ]
  },
  {
   "cell_type": "code",
   "execution_count": 263,
   "metadata": {},
   "outputs": [
    {
     "data": {
      "text/plain": [
       "['', 'farmhouses', 'cheever', 'fini', 'magnetism']"
      ]
     },
     "execution_count": 263,
     "metadata": {},
     "output_type": "execute_result"
    }
   ],
   "source": [
    "word2index = {}\n",
    "for i, word in enumerate(vocab):\n",
    "    word2index[word] = i\n",
    "    \n",
    "list(word2index)[0:5]"
   ]
  },
  {
   "cell_type": "code",
   "execution_count": 264,
   "metadata": {},
   "outputs": [],
   "source": [
    "concatenated = list()\n",
    "input_dataset = list()\n",
    "\n",
    "for review in tokens:\n",
    "    review_index = list()\n",
    "    for word in review:\n",
    "        try:\n",
    "            review_index.append(word2index[word])#get the number\n",
    "            concatenated.append(word2index[word])\n",
    "        except:\n",
    "            \"\"\n",
    "    input_dataset.append(review_index)\n",
    "\n",
    "concatenated = np.array(concatenated) #one big long list of values"
   ]
  },
  {
   "cell_type": "code",
   "execution_count": 265,
   "metadata": {},
   "outputs": [
    {
     "name": "stdout",
     "output_type": "stream",
     "text": [
      "10000\n",
      "(2946251,)\n"
     ]
    }
   ],
   "source": [
    "print(len(input_dataset))\n",
    "print(concatenated.shape)"
   ]
  },
  {
   "cell_type": "code",
   "execution_count": 266,
   "metadata": {},
   "outputs": [],
   "source": [
    "#random.shuffle(input_dataset)"
   ]
  },
  {
   "cell_type": "markdown",
   "metadata": {},
   "source": [
    "# The model "
   ]
  },
  {
   "cell_type": "code",
   "execution_count": 267,
   "metadata": {},
   "outputs": [
    {
     "name": "stdout",
     "output_type": "stream",
     "text": [
      "[[4.17022005e-01 7.20324493e-01 1.14374817e-04 3.02332573e-01\n",
      "  1.46755891e-01]]\n",
      "[[0.09233859 0.18626021 0.34556073 0.39676747 0.53881673]]\n"
     ]
    }
   ],
   "source": [
    "print(np.random.rand(1, 5)) #different ways of the same thing\n",
    "print(np.random.random((1,5)))"
   ]
  },
  {
   "cell_type": "code",
   "execution_count": 268,
   "metadata": {},
   "outputs": [],
   "source": [
    "alpha, iterations = (0.05, 2)\n",
    "hidden_size, window, negative = (50, 2, 5)\n",
    "\n",
    "w01 = (np.random.rand(len(vocab), hidden_size) - 0.5) * 0.2 #(74075, 50)\n",
    "w12 = np.random.rand(len(vocab), hidden_size)*0 #(74075, 50)\n",
    "\n",
    "layer_2_target = np.zeros(negative +1 ) #(1,6) #create random vector \n",
    "layer_2_target[0] = 1 #make the first element 1 "
   ]
  },
  {
   "cell_type": "code",
   "execution_count": 269,
   "metadata": {},
   "outputs": [
    {
     "name": "stdout",
     "output_type": "stream",
     "text": [
      "(49260, 50)\n",
      "(49260, 50)\n"
     ]
    }
   ],
   "source": [
    "print(w01.shape)\n",
    "print(w12.shape)"
   ]
  },
  {
   "cell_type": "code",
   "execution_count": 270,
   "metadata": {},
   "outputs": [],
   "source": [
    "def similar(target='strip'):\n",
    "  target_index = word2index[target]\n",
    "  scores = Counter()\n",
    "    \n",
    "  for word,index in word2index.items():\n",
    "    raw_difference = w01[index] - (w01[target_index])\n",
    "    squared_difference = raw_difference * raw_difference\n",
    "    scores[word] = -math.sqrt(sum(squared_difference))\n",
    "  return scores.most_common(10)"
   ]
  },
  {
   "cell_type": "code",
   "execution_count": 271,
   "metadata": {},
   "outputs": [],
   "source": [
    "sigmoid = lambda x: 1/(1 + np.exp(-x))"
   ]
  },
  {
   "cell_type": "code",
   "execution_count": 272,
   "metadata": {},
   "outputs": [
    {
     "name": "stdout",
     "output_type": "stream",
     "text": [
      "Progress:0.99995  [('beautiful', -0.0), ('gorgeous', -3.744634814491358), ('tedious', -4.252121730293498), ('magnificent', -4.261944084540728), ('shallow', -4.294753251487127), ('charismatic', -4.306679849652027), ('brutal', -4.307912783130663), ('marvelous', -4.325921599183216), ('creepy', -4.402085856723191), ('fascinating', -4.4054757312232375)])]])]377156124)]"
     ]
    }
   ],
   "source": [
    "for rev_i, review in enumerate(input_dataset * iterations): #just doubles input dataset? \n",
    "    for target_i in range(len(review)):\n",
    "        \n",
    "        sample_concatenated5 = list(concatenated[(np.random.rand(negative)*len(concatenated)).astype('int').tolist()])\n",
    "        target_samples  = [review[target_i]] + sample_concatenated5 #6 index returned, first index is correct\n",
    "        \n",
    "        left_context = review[max(0,target_i-window):target_i] #two words before\n",
    "        right_context = review[target_i+1:min(len(review), target_i+1+window)] #two words after \n",
    "        \n",
    "        layer_1 = np.mean(w01[left_context+right_context], axis = 0) #average the columns for 4 rows (50,)\n",
    "        layer_2 = sigmoid(layer_1.dot(w12[target_samples].T))  #(6,50).T -> (1,6)\n",
    "        \n",
    "        layer_2_delta = layer_2 - layer_2_target #only the first one has a 1 (1,6)\n",
    "        layer_1_delta = layer_2_delta.dot(w12[target_samples]) #(1,6).dot(6,50) = (1,50) spread the error back to the six, should push\n",
    "        #random 5 towards zero. \n",
    "        \n",
    "        w12[target_samples] -= np.outer(layer_2_delta, layer_1) * alpha #(1,6), (50) - (6,50)\n",
    "        w01[left_context+right_context] -= layer_1_delta * alpha #substract off the each row of interest, 4 surrounding\n",
    "\n",
    "    if(rev_i %  50 == 0):\n",
    "        sys.stdout.write('\\rProgress:'+str(rev_i/float(len(input_dataset)*iterations)) + \"   \" + str(similar('beautiful')))\n",
    "    \n",
    "    sys.stdout.write('\\rProgress:'+str(rev_i/float(len(input_dataset)*iterations)))\n",
    "        \n"
   ]
  },
  {
   "cell_type": "code",
   "execution_count": 257,
   "metadata": {},
   "outputs": [
    {
     "data": {
      "text/plain": [
       "[('terrible', -0.0),\n",
       " ('superb', -1.9382935721169392),\n",
       " ('entertaining', -1.9752831234779957),\n",
       " ('decent', -1.9928674892047238),\n",
       " ('predictable', -2.0306268811176857),\n",
       " ('weak', -2.0330169379006287),\n",
       " ('fairly', -2.0415966832232044),\n",
       " ('handled', -2.048035298912921),\n",
       " ('compelling', -2.1025811386491924),\n",
       " ('forgettable', -2.114956665104193)]"
      ]
     },
     "execution_count": 257,
     "metadata": {},
     "output_type": "execute_result"
    }
   ],
   "source": [
    "similar(\"terrible\")"
   ]
  },
  {
   "cell_type": "code",
   "execution_count": null,
   "metadata": {},
   "outputs": [],
   "source": []
  }
 ],
 "metadata": {
  "kernelspec": {
   "display_name": "Python 3",
   "language": "python",
   "name": "python3"
  },
  "language_info": {
   "codemirror_mode": {
    "name": "ipython",
    "version": 3
   },
   "file_extension": ".py",
   "mimetype": "text/x-python",
   "name": "python",
   "nbconvert_exporter": "python",
   "pygments_lexer": "ipython3",
   "version": "3.8.3"
  }
 },
 "nbformat": 4,
 "nbformat_minor": 4
}
