{
 "cells": [
  {
   "cell_type": "code",
   "execution_count": 3,
   "metadata": {},
   "outputs": [],
   "source": [
    "import sys\n",
    "import numpy as np\n",
    "from keras.datasets import mnist"
   ]
  },
  {
   "cell_type": "code",
   "execution_count": 4,
   "metadata": {},
   "outputs": [
    {
     "name": "stdout",
     "output_type": "stream",
     "text": [
      "x_train:(60000, 28, 28), y_train:(60000,)\n",
      "x_test:(10000, 28, 28), y_test:(10000,)\n"
     ]
    }
   ],
   "source": [
    "(x_train, y_train), (x_test, y_test) = mnist.load_data()\n",
    "print(f\"x_train:{x_train.shape}, y_train:{y_train.shape}\") #60k\n",
    "print(f\"x_test:{x_test.shape}, y_test:{y_test.shape}\") #10k"
   ]
  },
  {
   "cell_type": "code",
   "execution_count": 5,
   "metadata": {},
   "outputs": [],
   "source": [
    "def one_hot_labels(digit_labels):\n",
    "    \n",
    "    one_hot_labels = np.zeros((len(digit_labels),10))\n",
    "\n",
    "    for i,l in enumerate(digit_labels):\n",
    "        one_hot_labels[i][l] = 1\n",
    "    \n",
    "    return(one_hot_labels)"
   ]
  },
  {
   "cell_type": "code",
   "execution_count": 6,
   "metadata": {},
   "outputs": [],
   "source": [
    "trn_images = x_train[0:1000].reshape(1000, 28*28)/255\n",
    "trn_labels = one_hot_labels(y_train[0:1000])\n",
    "\n",
    "tst_images = x_test.reshape(len(x_test), 28*28)/255\n",
    "tst_labels = one_hot_labels(y_test)"
   ]
  },
  {
   "cell_type": "code",
   "execution_count": 41,
   "metadata": {},
   "outputs": [],
   "source": [
    "np.random.seed(42)\n",
    "relu = lambda x:(x>=0) * x # returns x if x > 0, return 0 otherwise\n",
    "relu2deriv = lambda x: x>=0 # returns 1 for input > 0, return 0 otherwise\n",
    "alpha, iterations, hidden_size, pixels_per_image, num_labels = (0.005, 350, 40, 784, 10)"
   ]
  },
  {
   "cell_type": "code",
   "execution_count": 42,
   "metadata": {},
   "outputs": [
    {
     "name": "stdout",
     "output_type": "stream",
     "text": [
      "Iteration:0, Trn-Err:.0.717, Tst-Err:.0.607, Trn-Acc:0.545, Tst-Acc:0.667.\n",
      "Iteration:50, Trn-Err:.0.187, Tst-Err:.0.454, Trn-Acc:0.964, Tst-Acc:0.795.\n",
      "Iteration:100, Trn-Err:.0.156, Tst-Err:.0.499, Trn-Acc:0.989, Tst-Acc:0.773.\n",
      "Iteration:150, Trn-Err:.0.139, Tst-Err:.0.524, Trn-Acc:0.993, Tst-Acc:0.756.\n",
      "Iteration:200, Trn-Err:.0.126, Tst-Err:.0.554, Trn-Acc:0.998, Tst-Acc:0.737.\n",
      "Iteration:250, Trn-Err:.0.117, Tst-Err:.0.584, Trn-Acc:0.998, Tst-Acc:0.723.\n",
      "Iteration:300, Trn-Err:.0.111, Tst-Err:.0.618, Trn-Acc:0.998, Tst-Acc:0.709.\n",
      "Iteration:349, Trn-Err:.0.107, Tst-Err:.0.642, Trn-Acc:0.999, Tst-Acc:0.701.\n"
     ]
    }
   ],
   "source": [
    "#np.random creates create numbers randomly spread between 0 and 1\n",
    "# by multipley by 0.2 [0-0.2] and subtracting 0.1 = range [-0.1 to 0.1]\n",
    "\n",
    "weights_0_1 = 0.2*np.random.random((pixels_per_image,hidden_size)) - 0.1\n",
    "weights_1_2 = 0.2*np.random.random((hidden_size,num_labels)) - 0.1\n",
    "\n",
    "for j in range(iterations):\n",
    "    error, correct_cnt = (0.0, 0)\n",
    "    \n",
    "    for i in range(len(trn_images)):\n",
    "        layer_0 = trn_images[i:i+1]\n",
    "        layer_1 = relu(np.dot(layer_0,weights_0_1))\n",
    "        layer_2 = np.dot(layer_1,weights_1_2)\n",
    "\n",
    "        error += np.sum((trn_labels[i:i+1] - layer_2) ** 2)\n",
    "        correct_cnt += int(np.argmax(layer_2) == \\\n",
    "                                        np.argmax(trn_labels[i:i+1]))\n",
    "\n",
    "        #spread the delta\n",
    "        layer_2_delta = (trn_labels[i:i+1] - layer_2)\n",
    "        layer_1_delta = layer_2_delta.dot(weights_1_2.T)* relu2deriv(layer_1)\n",
    "        \n",
    "        #input* delta\n",
    "        weights_1_2 += alpha * layer_1.T.dot(layer_2_delta)\n",
    "        weights_0_1 += alpha * layer_0.T.dot(layer_1_delta)\n",
    "        \n",
    "    #print(f\"Iteration:{j}, Trn-Err:.{error/len(trn_images):.3f},Trn-Acc:{correct_cnt/float(len(trn_images)):.3f}\", end = '\\r')\n",
    "    \n",
    "    \n",
    "    if(j % 50 == 0 or j == iterations-1):\n",
    "        tst_error, tst_correct_cnt = (0.0, 0)\n",
    "\n",
    "        for i in range(len(tst_images)):\n",
    "\n",
    "            layer_0 = tst_images[i:i+1]\n",
    "            layer_1 = relu(np.dot(layer_0,weights_0_1))\n",
    "            layer_2 = np.dot(layer_1,weights_1_2)\n",
    "\n",
    "            tst_error += np.sum((tst_labels[i:i+1] - layer_2) ** 2)\n",
    "            tst_correct_cnt += int(np.argmax(layer_2) == np.argmax(tst_labels[i:i+1]))\n",
    "            \n",
    "        msg = (\n",
    "            f\"Iteration:{j}, \"\n",
    "            f\"Trn-Err:.{error/len(trn_images):.3f}, \"\n",
    "            f\"Tst-Err:.{tst_error/len(tst_images):.3f}, \"\n",
    "            f\"Trn-Acc:{correct_cnt/float(len(trn_images)):.3f}, \"\n",
    "            f\"Tst-Acc:{tst_correct_cnt/float(len(tst_images)):.3f}.\"\n",
    "        )\n",
    "        print(msg)"
   ]
  },
  {
   "cell_type": "code",
   "execution_count": null,
   "metadata": {},
   "outputs": [],
   "source": []
  }
 ],
 "metadata": {
  "kernelspec": {
   "display_name": "Python 3",
   "language": "python",
   "name": "python3"
  },
  "language_info": {
   "codemirror_mode": {
    "name": "ipython",
    "version": 3
   },
   "file_extension": ".py",
   "mimetype": "text/x-python",
   "name": "python",
   "nbconvert_exporter": "python",
   "pygments_lexer": "ipython3",
   "version": "3.8.3"
  }
 },
 "nbformat": 4,
 "nbformat_minor": 4
}
