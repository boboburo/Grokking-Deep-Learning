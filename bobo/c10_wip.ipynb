{
 "cells": [
  {
   "cell_type": "code",
   "execution_count": 1,
   "id": "d89a2413-db7b-4991-911d-1e54ba0b86ba",
   "metadata": {
    "execution": {
     "iopub.execute_input": "2021-05-17T11:12:07.334188Z",
     "iopub.status.busy": "2021-05-17T11:12:07.333980Z",
     "iopub.status.idle": "2021-05-17T11:12:07.346461Z",
     "shell.execute_reply": "2021-05-17T11:12:07.345118Z",
     "shell.execute_reply.started": "2021-05-17T11:12:07.334130Z"
    },
    "tags": []
   },
   "outputs": [
    {
     "name": "stdout",
     "output_type": "stream",
     "text": [
      "3.8.8 (default, Apr 13 2021, 12:59:45) \n",
      "[Clang 10.0.0 ]\n",
      "['/Users/bcarte18/Documents/projects/bobo/Grokking-Deep-Learning/bobo', '/Users/bcarte18/opt/miniconda3/envs/grokking_py38/lib/python38.zip', '/Users/bcarte18/opt/miniconda3/envs/grokking_py38/lib/python3.8', '/Users/bcarte18/opt/miniconda3/envs/grokking_py38/lib/python3.8/lib-dynload', '', '/Users/bcarte18/.local/lib/python3.8/site-packages', '/Users/bcarte18/opt/miniconda3/envs/grokking_py38/lib/python3.8/site-packages', '/Users/bcarte18/opt/miniconda3/envs/grokking_py38/lib/python3.8/site-packages/IPython/extensions', '/Users/bcarte18/.ipython']\n"
     ]
    }
   ],
   "source": [
    "import sys\n",
    "print(sys.version)\n",
    "print(sys.path)"
   ]
  },
  {
   "cell_type": "code",
   "execution_count": 2,
   "id": "fcfbb3b2-8cbd-4cef-a36b-957faa87a166",
   "metadata": {
    "execution": {
     "iopub.execute_input": "2021-05-17T11:12:07.348716Z",
     "iopub.status.busy": "2021-05-17T11:12:07.348360Z",
     "iopub.status.idle": "2021-05-17T11:12:12.019609Z",
     "shell.execute_reply": "2021-05-17T11:12:12.018976Z",
     "shell.execute_reply.started": "2021-05-17T11:12:07.348671Z"
    },
    "tags": []
   },
   "outputs": [],
   "source": [
    "import typing\n",
    "import numpy as np \n",
    "from keras.datasets import mnist\n",
    "\n",
    "#interesting that the requirements.txt is too hard coded to reinstatiate an environment. "
   ]
  },
  {
   "cell_type": "code",
   "execution_count": 4,
   "id": "07252c69-3218-4ff5-9a7a-c50b2f6e14cd",
   "metadata": {
    "execution": {
     "iopub.execute_input": "2021-05-17T11:13:35.310852Z",
     "iopub.status.busy": "2021-05-17T11:13:35.310642Z",
     "iopub.status.idle": "2021-05-17T11:13:46.008035Z",
     "shell.execute_reply": "2021-05-17T11:13:46.007401Z",
     "shell.execute_reply.started": "2021-05-17T11:13:35.310830Z"
    },
    "tags": []
   },
   "outputs": [
    {
     "name": "stdout",
     "output_type": "stream",
     "text": [
      "Downloading data from https://storage.googleapis.com/tensorflow/tf-keras-datasets/mnist.npz\n",
      "11493376/11490434 [==============================] - 10s 1us/step\n",
      "11501568/11490434 [==============================] - 10s 1us/step\n"
     ]
    }
   ],
   "source": [
    "(X_train, y_train),(X_test, y_test) = mnist.load_data()"
   ]
  },
  {
   "cell_type": "code",
   "execution_count": 6,
   "id": "b2954829-12f2-432f-98dc-eea8216d78f3",
   "metadata": {
    "execution": {
     "iopub.execute_input": "2021-05-17T11:14:02.838274Z",
     "iopub.status.busy": "2021-05-17T11:14:02.837938Z",
     "iopub.status.idle": "2021-05-17T11:14:02.844992Z",
     "shell.execute_reply": "2021-05-17T11:14:02.842594Z",
     "shell.execute_reply.started": "2021-05-17T11:14:02.838239Z"
    }
   },
   "outputs": [],
   "source": [
    "def phsp(x, x_name = None):\n",
    "    if x_name != None:\n",
    "        print(f\"{x_name} is of shape {x.shape}\")"
   ]
  },
  {
   "cell_type": "code",
   "execution_count": 7,
   "id": "ec5d3313-ee38-4c0f-8e2b-6c5f7e55aa3e",
   "metadata": {
    "execution": {
     "iopub.execute_input": "2021-05-17T11:14:03.018461Z",
     "iopub.status.busy": "2021-05-17T11:14:03.018232Z",
     "iopub.status.idle": "2021-05-17T11:14:03.023903Z",
     "shell.execute_reply": "2021-05-17T11:14:03.022868Z",
     "shell.execute_reply.started": "2021-05-17T11:14:03.018433Z"
    },
    "tags": []
   },
   "outputs": [
    {
     "name": "stdout",
     "output_type": "stream",
     "text": [
      "x_train is of shape (60000, 28, 28)\n",
      "y_train is of shape (60000,)\n",
      "x_test is of shape (10000, 28, 28)\n",
      "y_test is of shape (10000,)\n"
     ]
    }
   ],
   "source": [
    "phsp(X_train, \"x_train\")\n",
    "phsp(y_train, \"y_train\")\n",
    "phsp(X_test, \"x_test\")\n",
    "phsp(y_test, \"y_test\")"
   ]
  },
  {
   "cell_type": "code",
   "execution_count": 67,
   "id": "5984f5e0-0129-4394-81e7-c15588095f9e",
   "metadata": {
    "execution": {
     "iopub.execute_input": "2021-05-17T11:34:46.866559Z",
     "iopub.status.busy": "2021-05-17T11:34:46.866320Z",
     "iopub.status.idle": "2021-05-17T11:34:46.870899Z",
     "shell.execute_reply": "2021-05-17T11:34:46.869873Z",
     "shell.execute_reply.started": "2021-05-17T11:34:46.866531Z"
    },
    "tags": []
   },
   "outputs": [],
   "source": [
    "def get_image_section(layer, row_from, row_to, col_from, col_to):\n",
    "    sub_section = layer[:,row_from:row_to, col_from:col_to]\n",
    "    #-1 variable number of images, with 1 matrix , rows and cols\n",
    "    sub_section = sub_section.reshape(-1,1,row_to - row_from, col_to - col_from)\n",
    "    return sub_section"
   ]
  },
  {
   "cell_type": "code",
   "execution_count": 80,
   "id": "2bc318a0-5c58-4280-a1ba-9b2b9aecca4b",
   "metadata": {
    "execution": {
     "iopub.execute_input": "2021-05-17T11:42:08.455890Z",
     "iopub.status.busy": "2021-05-17T11:42:08.455644Z",
     "iopub.status.idle": "2021-05-17T11:42:08.461439Z",
     "shell.execute_reply": "2021-05-17T11:42:08.460396Z",
     "shell.execute_reply.started": "2021-05-17T11:42:08.455862Z"
    },
    "tags": []
   },
   "outputs": [],
   "source": [
    "kernel_rows = 6\n",
    "kernel_cols = 6\n",
    "\n",
    "sects = list()\n",
    "for row_start in range(X_train.shape[1]-kernel_rows):\n",
    "    for col_start in range(X_train.shape[2]-kernel_rows):\n",
    "        sect = get_image_section(X_train, row_start, row_start+kernel_rows, \n",
    "                                 col_start, col_start+kernel_cols)\n",
    "        \n",
    "        sects.append(sect)"
   ]
  },
  {
   "cell_type": "code",
   "execution_count": 81,
   "id": "3cac6997-8c16-4a99-ab6d-72590aeffa8f",
   "metadata": {
    "execution": {
     "iopub.execute_input": "2021-05-17T11:42:09.020074Z",
     "iopub.status.busy": "2021-05-17T11:42:09.019844Z",
     "iopub.status.idle": "2021-05-17T11:42:09.026710Z",
     "shell.execute_reply": "2021-05-17T11:42:09.024816Z",
     "shell.execute_reply.started": "2021-05-17T11:42:09.020048Z"
    },
    "tags": []
   },
   "outputs": [
    {
     "data": {
      "text/plain": [
       "484"
      ]
     },
     "execution_count": 81,
     "metadata": {},
     "output_type": "execute_result"
    }
   ],
   "source": [
    "len(sects)"
   ]
  },
  {
   "cell_type": "code",
   "execution_count": 82,
   "id": "87d150a1-7d7f-4dfe-b5b7-986625579e8a",
   "metadata": {
    "execution": {
     "iopub.execute_input": "2021-05-17T11:42:09.679457Z",
     "iopub.status.busy": "2021-05-17T11:42:09.679227Z",
     "iopub.status.idle": "2021-05-17T11:42:09.684978Z",
     "shell.execute_reply": "2021-05-17T11:42:09.683609Z",
     "shell.execute_reply.started": "2021-05-17T11:42:09.679430Z"
    },
    "tags": []
   },
   "outputs": [
    {
     "data": {
      "text/plain": [
       "(60000, 1, 6, 6)"
      ]
     },
     "execution_count": 82,
     "metadata": {},
     "output_type": "execute_result"
    }
   ],
   "source": [
    "sect.shape"
   ]
  },
  {
   "cell_type": "code",
   "execution_count": 83,
   "id": "ca719661-15be-4d83-9be1-0c769312d0a4",
   "metadata": {
    "execution": {
     "iopub.execute_input": "2021-05-17T11:42:10.163216Z",
     "iopub.status.busy": "2021-05-17T11:42:10.162971Z",
     "iopub.status.idle": "2021-05-17T11:42:10.169631Z",
     "shell.execute_reply": "2021-05-17T11:42:10.168430Z",
     "shell.execute_reply.started": "2021-05-17T11:42:10.163186Z"
    },
    "tags": []
   },
   "outputs": [
    {
     "data": {
      "text/plain": [
       "(60000, 1, 6, 6)"
      ]
     },
     "execution_count": 83,
     "metadata": {},
     "output_type": "execute_result"
    }
   ],
   "source": [
    "sect.shape"
   ]
  },
  {
   "cell_type": "code",
   "execution_count": 84,
   "id": "0ce7ef24-6172-4d82-b82b-9da9ba6350c2",
   "metadata": {
    "execution": {
     "iopub.execute_input": "2021-05-17T11:42:14.541314Z",
     "iopub.status.busy": "2021-05-17T11:42:14.540535Z",
     "iopub.status.idle": "2021-05-17T11:42:19.014724Z",
     "shell.execute_reply": "2021-05-17T11:42:19.013827Z",
     "shell.execute_reply.started": "2021-05-17T11:42:14.541075Z"
    },
    "tags": []
   },
   "outputs": [
    {
     "data": {
      "text/plain": [
       "(60000, 484, 6, 6)"
      ]
     },
     "execution_count": 84,
     "metadata": {},
     "output_type": "execute_result"
    }
   ],
   "source": [
    "expanded_input = np.concatenate(sects, axis = 1)\n",
    "expanded_input.shape"
   ]
  },
  {
   "cell_type": "code",
   "execution_count": 85,
   "id": "4415fce9-da81-40df-885f-539b56ad03f1",
   "metadata": {
    "execution": {
     "iopub.execute_input": "2021-05-17T11:42:19.016629Z",
     "iopub.status.busy": "2021-05-17T11:42:19.016360Z",
     "iopub.status.idle": "2021-05-17T11:42:19.203819Z",
     "shell.execute_reply": "2021-05-17T11:42:19.202266Z",
     "shell.execute_reply.started": "2021-05-17T11:42:19.016589Z"
    },
    "tags": []
   },
   "outputs": [
    {
     "data": {
      "text/plain": [
       "(29040000, 36)"
      ]
     },
     "execution_count": 85,
     "metadata": {},
     "output_type": "execute_result"
    }
   ],
   "source": [
    "es = expanded_input.shape\n",
    "flattened_input = expanded_input.reshape(es[0]*es[1],-1)\n",
    "flattened_input.shape #end up with 1.9 million rows and 100 columns"
   ]
  }
 ],
 "metadata": {
  "kernelspec": {
   "display_name": "Python 3",
   "language": "python",
   "name": "python3"
  },
  "language_info": {
   "codemirror_mode": {
    "name": "ipython",
    "version": 3
   },
   "file_extension": ".py",
   "mimetype": "text/x-python",
   "name": "python",
   "nbconvert_exporter": "python",
   "pygments_lexer": "ipython3",
   "version": "3.8.8"
  }
 },
 "nbformat": 4,
 "nbformat_minor": 5
}
