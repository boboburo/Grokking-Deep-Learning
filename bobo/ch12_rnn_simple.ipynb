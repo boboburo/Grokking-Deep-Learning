{
 "cells": [
  {
   "cell_type": "code",
   "execution_count": 1,
   "metadata": {
    "ExecuteTime": {
     "end_time": "2020-12-29T18:23:06.336574Z",
     "start_time": "2020-12-29T18:23:06.159573Z"
    }
   },
   "outputs": [],
   "source": [
    "import numpy as np\n",
    "np.random.seed(1)"
   ]
  },
  {
   "cell_type": "code",
   "execution_count": 2,
   "metadata": {
    "ExecuteTime": {
     "end_time": "2020-12-29T18:23:06.356530Z",
     "start_time": "2020-12-29T18:23:06.352833Z"
    }
   },
   "outputs": [],
   "source": [
    "def softmax(x_):\n",
    "    x = np.atleast_2d(x_) #turns it from 1d vector to 2d\n",
    "    temp = np.exp(x)\n",
    "    return temp / np.sum(temp, axis =1, keepdims = True) #axis = 1 is sum the columns"
   ]
  },
  {
   "cell_type": "code",
   "execution_count": 3,
   "metadata": {
    "ExecuteTime": {
     "end_time": "2020-12-29T18:23:11.603934Z",
     "start_time": "2020-12-29T18:23:11.598005Z"
    }
   },
   "outputs": [],
   "source": [
    "word_vects = {}\n",
    "word_vect_template  = np.array([[0.,0.,0.]])\n",
    "\n",
    "word_list = ['yankees','bears','braves','red','sox','lose','defeat','beat','tie']\n",
    "\n",
    "for w in word_list:\n",
    "    word_vects[w] = word_vect_template"
   ]
  },
  {
   "cell_type": "code",
   "execution_count": 4,
   "metadata": {
    "ExecuteTime": {
     "end_time": "2020-12-29T18:23:12.529507Z",
     "start_time": "2020-12-29T18:23:12.519636Z"
    }
   },
   "outputs": [],
   "source": [
    "sent2output = np.random.rand(3, len(word_vects)) #[3,9]\n",
    "identity = np.eye(3)"
   ]
  },
  {
   "cell_type": "code",
   "execution_count": 5,
   "metadata": {
    "ExecuteTime": {
     "end_time": "2020-12-29T18:25:07.429894Z",
     "start_time": "2020-12-29T18:25:07.384332Z"
    }
   },
   "outputs": [],
   "source": [
    "alpha = 0.1\n",
    "y = np.array([1,0,0,0,0,0,0,0,0])\n",
    "\n",
    "for i in range(100):\n",
    "    \n",
    "    layer_0 = word_vects['red']\n",
    "    layer_1 = layer_0.dot(identity) + word_vects['sox']\n",
    "    layer_2 = layer_1.dot(identity) + word_vects['defeat']\n",
    "    \n",
    "    pred = softmax(layer_2.dot(sent2output))\n",
    "    \n",
    "    pred_delta = pred - y\n",
    "\n",
    "    layer_2_delta = pred_delta.dot(sent2output.T)\n",
    "    defeat_delta = layer_2_delta*1\n",
    "\n",
    "    layer_1_delta = layer_2_delta.dot(identity.T)\n",
    "    sox_delta = layer_1_delta*1\n",
    "\n",
    "    layer_0_delta = layer_1_delta.dot(identity.T)\n",
    "\n",
    "    word_vects['red'] -= layer_0_delta*alpha\n",
    "    word_vects['sox'] -= sox_delta*alpha\n",
    "    word_vects['defeat'] -= defeat_delta*alpha\n",
    "\n",
    "    identity -= np.outer(layer_1_delta, layer_0) * alpha\n",
    "    identity -= np.outer(layer_2_delta, layer_1) * alpha\n",
    "\n",
    "    sent2output -= np.outer(layer_2, pred_delta) * alpha\n",
    "\n"
   ]
  },
  {
   "cell_type": "code",
   "execution_count": 6,
   "metadata": {
    "ExecuteTime": {
     "end_time": "2020-12-29T18:25:08.732124Z",
     "start_time": "2020-12-29T18:25:08.722590Z"
    }
   },
   "outputs": [
    {
     "name": "stdout",
     "output_type": "stream",
     "text": [
      "Pred:[[9.99115839e-01 3.24142757e-04 9.89827279e-06 4.58200097e-06\n",
      "  1.55786539e-04 1.48957833e-05 8.48400706e-06 8.53677564e-06\n",
      "  3.57835314e-04]]\n"
     ]
    }
   ],
   "source": [
    "print(f\"Pred:{pred}\")"
   ]
  },
  {
   "cell_type": "markdown",
   "metadata": {
    "ExecuteTime": {
     "end_time": "2020-12-26T14:34:34.594537Z",
     "start_time": "2020-12-26T14:34:34.589755Z"
    }
   },
   "source": [
    "# What is normalize"
   ]
  },
  {
   "cell_type": "code",
   "execution_count": 121,
   "metadata": {
    "ExecuteTime": {
     "end_time": "2020-12-26T15:13:00.683934Z",
     "start_time": "2020-12-26T15:13:00.680551Z"
    }
   },
   "outputs": [],
   "source": [
    "w01 = np.random.rand(3,4)"
   ]
  },
  {
   "cell_type": "code",
   "execution_count": 122,
   "metadata": {
    "ExecuteTime": {
     "end_time": "2020-12-26T15:13:00.857502Z",
     "start_time": "2020-12-26T15:13:00.852057Z"
    }
   },
   "outputs": [
    {
     "data": {
      "text/plain": [
       "array([[3.95219721e-04, 6.87015833e-04, 8.01257264e-04, 6.06198898e-02],\n",
       "       [7.39648073e-01, 2.90338916e-01, 3.05612140e-01, 7.09016024e-01],\n",
       "       [1.54190122e-02, 7.79435266e-02, 3.43113924e-01, 9.40115915e-01]])"
      ]
     },
     "execution_count": 122,
     "metadata": {},
     "output_type": "execute_result"
    }
   ],
   "source": [
    "(w01 * w01) #element wise multiplication "
   ]
  },
  {
   "cell_type": "code",
   "execution_count": 123,
   "metadata": {
    "ExecuteTime": {
     "end_time": "2020-12-26T15:13:01.027526Z",
     "start_time": "2020-12-26T15:13:01.022205Z"
    }
   },
   "outputs": [],
   "source": [
    "norms = np.sum(w01*w01, axis = 1) #[3,1]\n",
    "norms.resize(norms.shape[0],1)\n",
    "\n",
    "normed_weights = w01 * norms #ew multiplation/scaled by the column sum ; give you 0-1 for each column "
   ]
  },
  {
   "cell_type": "markdown",
   "metadata": {},
   "source": [
    "# RNN with dictionary"
   ]
  },
  {
   "cell_type": "code",
   "execution_count": 124,
   "metadata": {
    "ExecuteTime": {
     "end_time": "2020-12-26T15:15:26.704264Z",
     "start_time": "2020-12-26T15:15:26.700088Z"
    }
   },
   "outputs": [],
   "source": [
    "# With dictonionary \n",
    "\n",
    "tokens = [[\"Mary\",\"had\",\"a\",\"little\",\"lamb\"],\n",
    "         [\"Its\",\"fleec\",\"was\",\"white\",\"as\",\"snow\"],\n",
    "          [\"And\",\"everywhere\",\"that\",\"Mary\",\"went\"],\n",
    "          [\"The\",\"lamb\",\"was\",\"sure\",\"to\",\"go\"]]"
   ]
  },
  {
   "cell_type": "code",
   "execution_count": 127,
   "metadata": {
    "ExecuteTime": {
     "end_time": "2020-12-26T15:17:04.045342Z",
     "start_time": "2020-12-26T15:17:04.035229Z"
    }
   },
   "outputs": [
    {
     "name": "stdout",
     "output_type": "stream",
     "text": [
      "19\n",
      "22\n"
     ]
    }
   ],
   "source": [
    "vocab = set()\n",
    "wrdcnt = 0\n",
    "for sent in tokens:\n",
    "    for word in sent:\n",
    "        vocab.add(word)\n",
    "        wrdcnt += 1\n",
    "\n",
    "vocab = list(vocab)\n",
    "print(len(vocab))\n",
    "print(wrdcnt)"
   ]
  },
  {
   "cell_type": "code",
   "execution_count": 135,
   "metadata": {
    "ExecuteTime": {
     "end_time": "2020-12-26T15:23:26.501751Z",
     "start_time": "2020-12-26T15:23:26.495725Z"
    }
   },
   "outputs": [],
   "source": [
    "word2index = {}\n",
    "for i,word in enumerate(vocab):\n",
    "    word2index[word] = i"
   ]
  },
  {
   "cell_type": "code",
   "execution_count": 141,
   "metadata": {
    "ExecuteTime": {
     "end_time": "2020-12-26T15:24:37.857651Z",
     "start_time": "2020-12-26T15:24:37.848340Z"
    }
   },
   "outputs": [
    {
     "data": {
      "text/plain": [
       "['went',\n",
       " 'to',\n",
       " 'And',\n",
       " 'had',\n",
       " 'a',\n",
       " 'was',\n",
       " 'everywhere',\n",
       " 'as',\n",
       " 'Mary',\n",
       " 'snow',\n",
       " 'Its',\n",
       " 'that',\n",
       " 'go',\n",
       " 'little',\n",
       " 'white',\n",
       " 'sure',\n",
       " 'The',\n",
       " 'fleec',\n",
       " 'lamb']"
      ]
     },
     "execution_count": 141,
     "metadata": {},
     "output_type": "execute_result"
    }
   ],
   "source": [
    "vocab"
   ]
  },
  {
   "cell_type": "code",
   "execution_count": 131,
   "metadata": {
    "ExecuteTime": {
     "end_time": "2020-12-26T15:19:14.427085Z",
     "start_time": "2020-12-26T15:19:14.422016Z"
    }
   },
   "outputs": [],
   "source": [
    "def word2indice(sentence):\n",
    "    idx = list()\n",
    "    for word in sentence:\n",
    "        idx.append(word2index[word])\n",
    "    return idx "
   ]
  },
  {
   "cell_type": "code",
   "execution_count": 134,
   "metadata": {
    "ExecuteTime": {
     "end_time": "2020-12-26T15:21:39.038889Z",
     "start_time": "2020-12-26T15:21:39.032241Z"
    }
   },
   "outputs": [],
   "source": [
    "embed_size = 10\n",
    "\n",
    "embed = (np.random.rand(len(vocab), embed_size) - 0.5)*0.1\n",
    "recurrent = np.eye(embed_size)\n",
    "start = np.zeros(embed_size)\n",
    "decoder = (np.random.rand(embed_size, len(vocab)) - 0.5) * 0.1\n",
    "one_hot = np.eye(len(vocab))"
   ]
  },
  {
   "cell_type": "code",
   "execution_count": 157,
   "metadata": {
    "ExecuteTime": {
     "end_time": "2020-12-27T16:29:19.098044Z",
     "start_time": "2020-12-27T16:29:19.075666Z"
    }
   },
   "outputs": [],
   "source": [
    "def predict(sent):\n",
    "    \n",
    "    layers = list()\n",
    "    layer = {}\n",
    "    layer['hidden'] = start\n",
    "    layers.append(layer)\n",
    "    \n",
    "    loss = 0\n",
    "    \n",
    "    preds = list()\n",
    "    \n",
    "    for target_i in range(len(sent)):\n",
    "        \n",
    "        layer = {}\n",
    "        layer['pred'] = softmax(layers[-1]['hidden'].dot(decoder))\n",
    "        print(layer['pred'].shape)\n",
    "        \n",
    "        loss += -np.log(layer['pred'],[sent[target_i]])\n",
    "        \n",
    "        layer['hidden'] = layers[-1]['hidden'].dot(recurrent) + embed[sent[target_i]]\n",
    "        \n",
    "        layers.append(layer)\n",
    "    return layers, loss"
   ]
  },
  {
   "cell_type": "code",
   "execution_count": 158,
   "metadata": {
    "ExecuteTime": {
     "end_time": "2020-12-27T16:29:19.297835Z",
     "start_time": "2020-12-27T16:29:19.282617Z"
    }
   },
   "outputs": [
    {
     "name": "stdout",
     "output_type": "stream",
     "text": [
      "(1, 19)\n"
     ]
    },
    {
     "ename": "TypeError",
     "evalue": "return arrays must be of ArrayType",
     "output_type": "error",
     "traceback": [
      "\u001b[0;31m---------------------------------------------------------------------------\u001b[0m",
      "\u001b[0;31mTypeError\u001b[0m                                 Traceback (most recent call last)",
      "\u001b[0;32m<ipython-input-158-a3bef0f6c747>\u001b[0m in \u001b[0;36m<module>\u001b[0;34m()\u001b[0m\n\u001b[0;32m----> 1\u001b[0;31m \u001b[0mpredict\u001b[0m\u001b[0;34m(\u001b[0m\u001b[0mtokens\u001b[0m\u001b[0;34m[\u001b[0m\u001b[0;36m3\u001b[0m\u001b[0;34m]\u001b[0m\u001b[0;34m)\u001b[0m\u001b[0;34m\u001b[0m\u001b[0;34m\u001b[0m\u001b[0m\n\u001b[0m",
      "\u001b[0;32m<ipython-input-157-bc50557e1b19>\u001b[0m in \u001b[0;36mpredict\u001b[0;34m(sent)\u001b[0m\n\u001b[1;32m     16\u001b[0m         \u001b[0mprint\u001b[0m\u001b[0;34m(\u001b[0m\u001b[0mlayer\u001b[0m\u001b[0;34m[\u001b[0m\u001b[0;34m'pred'\u001b[0m\u001b[0;34m]\u001b[0m\u001b[0;34m.\u001b[0m\u001b[0mshape\u001b[0m\u001b[0;34m)\u001b[0m\u001b[0;34m\u001b[0m\u001b[0;34m\u001b[0m\u001b[0m\n\u001b[1;32m     17\u001b[0m \u001b[0;34m\u001b[0m\u001b[0m\n\u001b[0;32m---> 18\u001b[0;31m         \u001b[0mloss\u001b[0m \u001b[0;34m+=\u001b[0m \u001b[0;34m-\u001b[0m\u001b[0mnp\u001b[0m\u001b[0;34m.\u001b[0m\u001b[0mlog\u001b[0m\u001b[0;34m(\u001b[0m\u001b[0mlayer\u001b[0m\u001b[0;34m[\u001b[0m\u001b[0;34m'pred'\u001b[0m\u001b[0;34m]\u001b[0m\u001b[0;34m,\u001b[0m\u001b[0;34m[\u001b[0m\u001b[0msent\u001b[0m\u001b[0;34m[\u001b[0m\u001b[0mtarget_i\u001b[0m\u001b[0;34m]\u001b[0m\u001b[0;34m]\u001b[0m\u001b[0;34m)\u001b[0m\u001b[0;34m\u001b[0m\u001b[0;34m\u001b[0m\u001b[0m\n\u001b[0m\u001b[1;32m     19\u001b[0m \u001b[0;34m\u001b[0m\u001b[0m\n\u001b[1;32m     20\u001b[0m         \u001b[0mlayer\u001b[0m\u001b[0;34m[\u001b[0m\u001b[0;34m'hidden'\u001b[0m\u001b[0;34m]\u001b[0m \u001b[0;34m=\u001b[0m \u001b[0mlayers\u001b[0m\u001b[0;34m[\u001b[0m\u001b[0;34m-\u001b[0m\u001b[0;36m1\u001b[0m\u001b[0;34m]\u001b[0m\u001b[0;34m[\u001b[0m\u001b[0;34m'hidden'\u001b[0m\u001b[0;34m]\u001b[0m\u001b[0;34m.\u001b[0m\u001b[0mdot\u001b[0m\u001b[0;34m(\u001b[0m\u001b[0mrecurrent\u001b[0m\u001b[0;34m)\u001b[0m \u001b[0;34m+\u001b[0m \u001b[0membed\u001b[0m\u001b[0;34m[\u001b[0m\u001b[0msent\u001b[0m\u001b[0;34m[\u001b[0m\u001b[0mtarget_i\u001b[0m\u001b[0;34m]\u001b[0m\u001b[0;34m]\u001b[0m\u001b[0;34m\u001b[0m\u001b[0;34m\u001b[0m\u001b[0m\n",
      "\u001b[0;31mTypeError\u001b[0m: return arrays must be of ArrayType"
     ]
    }
   ],
   "source": [
    "predict(tokens[3])"
   ]
  },
  {
   "cell_type": "code",
   "execution_count": 151,
   "metadata": {
    "ExecuteTime": {
     "end_time": "2020-12-27T16:27:41.968112Z",
     "start_time": "2020-12-27T16:27:41.963343Z"
    }
   },
   "outputs": [
    {
     "data": {
      "text/plain": [
       "'sure'"
      ]
     },
     "execution_count": 151,
     "metadata": {},
     "output_type": "execute_result"
    }
   ],
   "source": [
    "ti = 3\n",
    "sent[ti]"
   ]
  },
  {
   "cell_type": "code",
   "execution_count": 153,
   "metadata": {
    "ExecuteTime": {
     "end_time": "2020-12-27T16:28:01.328146Z",
     "start_time": "2020-12-27T16:28:01.323362Z"
    }
   },
   "outputs": [
    {
     "data": {
      "text/plain": [
       "(19, 10)"
      ]
     },
     "execution_count": 153,
     "metadata": {},
     "output_type": "execute_result"
    }
   ],
   "source": [
    "embed.shape"
   ]
  },
  {
   "cell_type": "code",
   "execution_count": null,
   "metadata": {},
   "outputs": [],
   "source": []
  }
 ],
 "metadata": {
  "kernelspec": {
   "display_name": "Python 3",
   "language": "python",
   "name": "python3"
  },
  "language_info": {
   "codemirror_mode": {
    "name": "ipython",
    "version": 3
   },
   "file_extension": ".py",
   "mimetype": "text/x-python",
   "name": "python",
   "nbconvert_exporter": "python",
   "pygments_lexer": "ipython3",
   "version": "3.6.9"
  }
 },
 "nbformat": 4,
 "nbformat_minor": 2
}
